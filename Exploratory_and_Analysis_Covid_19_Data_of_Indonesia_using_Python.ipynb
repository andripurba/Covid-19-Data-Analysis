{
  "nbformat": 4,
  "nbformat_minor": 0,
  "metadata": {
    "colab": {
      "name": "Exploratory and Analysis Covid-19 Data of Indonesia using Python.ipynb",
      "provenance": [],
      "collapsed_sections": []
    },
    "kernelspec": {
      "name": "python3",
      "display_name": "Python 3"
    },
    "language_info": {
      "name": "python"
    }
  },
  "cells": [
    {
      "cell_type": "markdown",
      "metadata": {
        "id": "3CouwpuUu3az"
      },
      "source": [
        "\n",
        "# **Background**"
      ]
    },
    {
      "cell_type": "markdown",
      "metadata": {
        "id": "3TvwqxIUu9EJ"
      },
      "source": [
        "COVID-19 is a disease that has now become a global pandemic. Governments in various countries generally swiftly form task force units to handle the spread of COVID-19 in the community, including the government in Indonesia.\n",
        "\n",
        "One of the action taken by the government is to collect and provide data on the growth of COVID-19 cases to the public. The case growth data is often accompanied by dashboards and supporting visualization charts in the hope that the public can understand the information more easily. For example, the [covid19.go.id](https://covid19.go.id) portal created by the National COVID-19 Handling Task Force and the [PIKOBAR (Pusat Informasi & Koordinasi COVID-19 Provinsi Jawa Barat)](https://pikobar.jabarprov.go.id/data) portal belonging to the West Java Provincial government, as well as many other COVID-19 data portals provided by each local government."
      ]
    },
    {
      "cell_type": "markdown",
      "metadata": {
        "id": "dMpILakMLmXt"
      },
      "source": [
        "This project is provided by *DQLab*. In this project, we will explore and analyze COVID-19 data in Indonesia. The data used is taken directly from the API (Application Programming Interface) available at [covid19.go.id](https://covid19.go.id). So we will learn techniques for retrieving data from APIs, techniques for preparing data, and data analysis and visualization."
      ]
    },
    {
      "cell_type": "markdown",
      "metadata": {
        "id": "i-3K_bvTvC5I"
      },
      "source": [
        "# **API (Application Programming Interface)**\n"
      ]
    },
    {
      "cell_type": "markdown",
      "metadata": {
        "id": "e4Ln1QRBvnIG"
      },
      "source": [
        "Indonesia's COVID-19 data recapitulation is available in the public API at https://data.covid19.go.id/public/api/update.json.\n",
        "\n",
        "One way to access the API is to use the `get()` function from the requests library.\n",
        "Now we're going to enable the requests library and run the `get()` function at the aforementioned API address. We store the result of the function in an object named `resp`."
      ]
    },
    {
      "cell_type": "code",
      "metadata": {
        "id": "phjvUSwtNMgR"
      },
      "source": [
        "import requests\n",
        "resp = requests.get('https://data.covid19.go.id/public/api/update.json')"
      ],
      "execution_count": 1,
      "outputs": []
    },
    {
      "cell_type": "markdown",
      "metadata": {
        "id": "DMt0GEERMhV5"
      },
      "source": [
        "When we run the `get()` function, basically what happens is we make a request to the API provider server. Our request is then processed and answered by the server as a response. The `resp` object that we have created has the response information by the server.\n",
        "\n",
        "There are three main pieces of information in an API response, namely: \n",
        "- *status*, that has information whether our request was successful or not and is stated in the status code,\n",
        "- *headers*, generally contain metadata information, and\n",
        "- *body*, that contains the content of the request that has been made."
      ]
    },
    {
      "cell_type": "markdown",
      "metadata": {
        "id": "5QOv7bWgMn5w"
      },
      "source": [
        "There are several types of status codes that are commonly encountered, including:\n",
        "\n",
        "- `200` means that the request was successfully fulfilled.\n",
        "- `404` means that the requested file could not be found.\n",
        "- `500` means that the request access is denied.\n",
        "- `501` means that an error has occurred on the server.\n",
        "\n",
        "You can learn complete information about the types of status codes at https://restfulapi.net/http-status-codes/."
      ]
    },
    {
      "cell_type": "markdown",
      "metadata": {
        "id": "dc-hly4m84zc"
      },
      "source": [
        "Now, we can print the `resp` directly which has output status on our request via API."
      ]
    },
    {
      "cell_type": "code",
      "metadata": {
        "colab": {
          "base_uri": "https://localhost:8080/"
        },
        "id": "tCaDKMY4N41H",
        "outputId": "c164e137-2225-405a-ae6e-bf7244e93ca6"
      },
      "source": [
        "print(resp)"
      ],
      "execution_count": 2,
      "outputs": [
        {
          "output_type": "stream",
          "text": [
            "<Response [200]>\n"
          ],
          "name": "stdout"
        }
      ]
    },
    {
      "cell_type": "markdown",
      "metadata": {
        "id": "jcH6dvPnP4lF"
      },
      "source": [
        "Now let's try to run the attribute `headers` on the `resp` to find out what metadata is stored using the `print()` function."
      ]
    },
    {
      "cell_type": "code",
      "metadata": {
        "colab": {
          "base_uri": "https://localhost:8080/"
        },
        "id": "0p5e3bSqQZzr",
        "outputId": "36465e9c-5bd9-4b7f-fc6d-313a68846be6"
      },
      "source": [
        "print(resp.headers)"
      ],
      "execution_count": 3,
      "outputs": [
        {
          "output_type": "stream",
          "text": [
            "{'Server': 'nginx', 'Date': 'Thu, 12 Aug 2021 04:43:03 GMT', 'Content-Type': 'application/json', 'Transfer-Encoding': 'chunked', 'Connection': 'keep-alive', 'Vary': 'Accept-Encoding, Accept-Encoding', 'Last-Modified': 'Thu, 12 Aug 2021 04:42:01 GMT', 'ETag': 'W/\"6114a699-31d98\"', 'X-Content-Type-Options': 'nosniff, nosniff', 'X-XSS-Protection': '1; mode=block, 1; mode=block', 'Strict-Transport-Security': 'max-age=31536000; includeSubDomains; preload', 'Content-Encoding': 'gzip'}\n"
          ],
          "name": "stdout"
        }
      ]
    },
    {
      "cell_type": "markdown",
      "metadata": {
        "id": "4YRJEeUi9Das"
      },
      "source": [
        "*Note: the code in this project was executed on Thursday, 12 August 2021, around 1 p.m. GMT+7*"
      ]
    },
    {
      "cell_type": "markdown",
      "metadata": {
        "id": "RqlSWyhcQwpG"
      },
      "source": [
        "The API response with status code `200` states that our request was successfully fulfilled and the requested content is available for extraction. In addition, we also know through the `headers` attribute that the requested content is available in the form of `application/json`, i.e. a `JSON` file.\n",
        "\n",
        "Then we can extract the content using the `json()` method. The `json()` method is a built-in JSON decoder to extract content of type `JSON`. We can also use the `content` attribute but this is binary content which we need to reprocess later. We run the `json()` method on the `resp` object and save the result as `cov_id_raw`.\n",
        "\n",
        "This `cov_id_raw` data type is `dict`."
      ]
    },
    {
      "cell_type": "code",
      "metadata": {
        "id": "kJf1sOR4Sm2G"
      },
      "source": [
        "cov_id_raw = resp.json()"
      ],
      "execution_count": 4,
      "outputs": []
    },
    {
      "cell_type": "markdown",
      "metadata": {
        "id": "2tGWgVGXStBx"
      },
      "source": [
        "By using the `len()` function and the `keys()` method, we will observe how many components there are and what are the names of the components in the `cov_id_raw` object. Then we extract the 2nd key and save it with the name `cov_id_update`."
      ]
    },
    {
      "cell_type": "code",
      "metadata": {
        "colab": {
          "base_uri": "https://localhost:8080/"
        },
        "id": "VIu7alSkTcl2",
        "outputId": "2248066f-19a4-43a9-ffc3-beea33b4b40b"
      },
      "source": [
        "print('Length of cov_id_raw : %d.' %len(cov_id_raw))\n",
        "print('Komponen cov_id_raw  : %s.' %cov_id_raw.keys())\n",
        "cov_id_update = cov_id_raw['update']"
      ],
      "execution_count": 5,
      "outputs": [
        {
          "output_type": "stream",
          "text": [
            "Length of cov_id_raw : 2.\n",
            "Komponen cov_id_raw  : dict_keys(['data', 'update']).\n"
          ],
          "name": "stdout"
        }
      ]
    },
    {
      "cell_type": "markdown",
      "metadata": {
        "id": "ZYLYkLxXTkNO"
      },
      "source": [
        "We will now try to focus on the `cov_id_update` object to answer the following questions:\n",
        "\n",
        "- When is the update date for additional case data?\n",
        "- How many additional recovered cases?\n",
        "- What is the number of additional deaths?\n",
        "- What is the total number of positive cases to date?\n",
        "- What is the total number of deaths to date?"
      ]
    },
    {
      "cell_type": "code",
      "metadata": {
        "colab": {
          "base_uri": "https://localhost:8080/"
        },
        "id": "XiJHtWTiUDof",
        "outputId": "69fb9b42-7b86-45a0-a4dd-0cbc2b9340de"
      },
      "source": [
        "print('Tanggal pembaharuan data penambahan kasus    :', cov_id_update['penambahan']['tanggal'])\n",
        "print('Jumlah penambahan kasus sembuh               :', cov_id_update['penambahan']['jumlah_sembuh'])\n",
        "print('Jumlah penambahan kasus meninggal            :', cov_id_update['penambahan']['jumlah_meninggal'])\n",
        "print('Jumlah total kasus positif hingga saat ini   :', cov_id_update['total']['jumlah_positif'])\n",
        "print('Jumlah total kasus meninggal hingga saat ini :', cov_id_update['total']['jumlah_meninggal'])"
      ],
      "execution_count": 6,
      "outputs": [
        {
          "output_type": "stream",
          "text": [
            "Tanggal pembaharuan data penambahan kasus    : 2021-08-11\n",
            "Jumlah penambahan kasus sembuh               : 39931\n",
            "Jumlah penambahan kasus meninggal            : 1579\n",
            "Jumlah total kasus positif hingga saat ini   : 3749446\n",
            "Jumlah total kasus meninggal hingga saat ini : 112198\n"
          ],
          "name": "stdout"
        }
      ]
    },
    {
      "cell_type": "markdown",
      "metadata": {
        "id": "QNBoOdDkUmwq"
      },
      "source": [
        "# **West Java Data**"
      ]
    },
    {
      "cell_type": "markdown",
      "metadata": {
        "id": "ThRhYZDmXZWm"
      },
      "source": [
        "We have succeeded in answering questions regarding the condition of COVID-19 in Indonesia by using data directly retrieved using the API. However, what if we want to focus on COVID-19 data in one of the provinces?\n",
        "\n",
        "The [covid19.go.id](https://covid19.go.id) portal provides provincial-level COVID-19 case data at different API addresses. For data regarding COVID-19 West Java, available at https://data.covid19.go.id/public/api/prov_detail_JAWA_BARAT.json."
      ]
    },
    {
      "cell_type": "code",
      "metadata": {
        "id": "e0epevjsXdgX"
      },
      "source": [
        "import requests\n",
        "resp_jabar = requests.get('https://data.covid19.go.id/public/api/prov_detail_JAWA_BARAT.json')\n",
        "cov_jabar_raw = resp_jabar.json()"
      ],
      "execution_count": 7,
      "outputs": []
    },
    {
      "cell_type": "markdown",
      "metadata": {
        "id": "bD7GaFnBXj6N"
      },
      "source": [
        "Now we try to run the `keys()` method on the `cov_jabar_raw` to find out the names of the main elements available."
      ]
    },
    {
      "cell_type": "code",
      "metadata": {
        "colab": {
          "base_uri": "https://localhost:8080/"
        },
        "id": "-odfAcnSBOdS",
        "outputId": "c0c2e16c-dd8d-461c-a5bb-a6f2edddab58"
      },
      "source": [
        "print('Nama-nama elemen utama:\\n', cov_jabar_raw.keys())"
      ],
      "execution_count": 26,
      "outputs": [
        {
          "output_type": "stream",
          "text": [
            "Nama-nama elemen utama:\n",
            " dict_keys(['last_date', 'provinsi', 'kasus_total', 'kasus_tanpa_tgl', 'kasus_dengan_tgl', 'meninggal_persen', 'meninggal_tanpa_tgl', 'meninggal_dengan_tgl', 'sembuh_persen', 'sembuh_tanpa_tgl', 'sembuh_dengan_tgl', 'list_perkembangan', 'data'])\n"
          ],
          "name": "stdout"
        }
      ]
    },
    {
      "cell_type": "markdown",
      "metadata": {
        "id": "G3txv5isBR7o"
      },
      "source": [
        "Then we can answer the following questions:\n",
        "- What is the total number of COVID-19 cases in West Java?\n",
        "- What is the percentage of deaths from COVID-19 in West Java?\n",
        "- What is the percentage of cure rate from COVID-19 in West Java?"
      ]
    },
    {
      "cell_type": "code",
      "metadata": {
        "colab": {
          "base_uri": "https://localhost:8080/"
        },
        "id": "ExO08nP_X8ZH",
        "outputId": "fae8134a-1941-4447-8ea3-ead2d90547b1"
      },
      "source": [
        "print('Jumlah total kasus COVID-19 di Jawa Barat                 : %d' %cov_jabar_raw['kasus_total'])\n",
        "print('Persentase kematian akibat COVID-19 di Jawa Barat         : %f.2%%' %cov_jabar_raw['meninggal_persen'])\n",
        "print('Persentase tingkat kesembuhan dari COVID-19 di Jawa Barat : %f.2%%' %cov_jabar_raw['sembuh_persen'])"
      ],
      "execution_count": 28,
      "outputs": [
        {
          "output_type": "stream",
          "text": [
            "Jumlah total kasus COVID-19 di Jawa Barat                 : 646596\n",
            "Persentase kematian akibat COVID-19 di Jawa Barat         : 1.718693.2%\n",
            "Persentase tingkat kesembuhan dari COVID-19 di Jawa Barat : 86.921354.2%\n"
          ],
          "name": "stdout"
        }
      ]
    },
    {
      "cell_type": "markdown",
      "metadata": {
        "id": "6XmHvMs7YXkg"
      },
      "source": [
        "We have received general information about COVID-19 in West Java. However, the information will be more complete if we have data on the development of COVID-19 from time to time. This information is also provided by covid19.go.id through the API request we made earlier. The historical data on the development of COVID-19 is stored under the name `list_perkembangan`.\n",
        "\n",
        "We extract the data from `cov_jabar_raw` and to make it easier to inspect the data, we change the data of type `dict` to pandas dataframe. Then we store the result as an object named `cov_jabar`. We also observe the structure of `cov_jabar` using the `info()` and `head()` methods."
      ]
    },
    {
      "cell_type": "code",
      "metadata": {
        "colab": {
          "base_uri": "https://localhost:8080/"
        },
        "id": "2lNdgWazZ1bb",
        "outputId": "c749ad83-3cf5-4b35-c42d-1d43fe2d89da"
      },
      "source": [
        "import numpy as np\n",
        "import pandas as pd\n",
        "import requests\n",
        "resp_jabar = requests.get('https://data.covid19.go.id/public/api/prov_detail_JAWA_BARAT.json')\n",
        "cov_jabar_raw = resp_jabar.json()\n",
        "\n",
        "cov_jabar = pd.DataFrame(cov_jabar_raw['list_perkembangan'])\n",
        "print('Info cov_jabar:\\n', cov_jabar.info())\n",
        "print('\\nLima data teratas cov_jabar:\\n', cov_jabar.head())"
      ],
      "execution_count": 9,
      "outputs": [
        {
          "output_type": "stream",
          "text": [
            "<class 'pandas.core.frame.DataFrame'>\n",
            "RangeIndex: 528 entries, 0 to 527\n",
            "Data columns (total 9 columns):\n",
            " #   Column                        Non-Null Count  Dtype\n",
            "---  ------                        --------------  -----\n",
            " 0   tanggal                       528 non-null    int64\n",
            " 1   KASUS                         528 non-null    int64\n",
            " 2   MENINGGAL                     528 non-null    int64\n",
            " 3   SEMBUH                        528 non-null    int64\n",
            " 4   DIRAWAT_OR_ISOLASI            528 non-null    int64\n",
            " 5   AKUMULASI_KASUS               528 non-null    int64\n",
            " 6   AKUMULASI_SEMBUH              528 non-null    int64\n",
            " 7   AKUMULASI_MENINGGAL           528 non-null    int64\n",
            " 8   AKUMULASI_DIRAWAT_OR_ISOLASI  528 non-null    int64\n",
            "dtypes: int64(9)\n",
            "memory usage: 37.2 KB\n",
            "Info cov_jabar:\n",
            " None\n",
            "\n",
            "Lima data teratas cov_jabar:\n",
            "          tanggal  KASUS  ...  AKUMULASI_MENINGGAL  AKUMULASI_DIRAWAT_OR_ISOLASI\n",
            "0  1583107200000      3  ...                    0                             3\n",
            "1  1583193600000      1  ...                    1                             3\n",
            "2  1583280000000      1  ...                    1                             4\n",
            "3  1583366400000      1  ...                    1                             5\n",
            "4  1583452800000      1  ...                    1                             6\n",
            "\n",
            "[5 rows x 9 columns]\n"
          ],
          "name": "stdout"
        }
      ]
    },
    {
      "cell_type": "markdown",
      "metadata": {
        "id": "-ronPbiiaRVR"
      },
      "source": [
        "After extracting and observing `cov_jabar`, we found data irregularities in the date column and inconsistent column writing format. Now we will try to perform several steps to \"tame\" the data so that it can be processed and analyzed more easily.\n",
        "\n",
        "We will take several steps to \"tame\" the `cov_jabar` data, namely:\n",
        "\n",
        "- Removed column `DIRAWAT_OR_ISOLASI` and all columns containing cumulative values.\n",
        "- Changed the writing format of all columns to lowercase.\n",
        "- Rename column `kasus` to `kasus_baru`.\n",
        "- Fixed data type in `tanggal` column using `pd.to_datetime`.\n",
        "\n",
        "We will use chaining technique on the dataframe and save the processing result with the name `cov_jabar_tidy`."
      ]
    },
    {
      "cell_type": "code",
      "metadata": {
        "colab": {
          "base_uri": "https://localhost:8080/"
        },
        "id": "6PEmTy75qrTb",
        "outputId": "d91230af-af68-4e12-c4ef-49eb8a29b0ac"
      },
      "source": [
        "cov_jabar_tidy = (cov_jabar.drop(columns=[item for item in cov_jabar.columns \n",
        "                                               if item.startswith('AKUMULASI') \n",
        "                                                  or item.startswith('DIRAWAT')])\n",
        "                           .rename(columns=str.lower)\n",
        "                           .rename(columns={'kasus': 'kasus_baru'})\n",
        "                  )\n",
        "cov_jabar_tidy['tanggal'] = pd.to_datetime(cov_jabar_tidy['tanggal']*1e6, unit='ns')\n",
        "print('Lima data teratas:\\n', cov_jabar_tidy.head())\n",
        "print('\\nLima data terakhir:\\n', cov_jabar_tidy.tail())"
      ],
      "execution_count": 11,
      "outputs": [
        {
          "output_type": "stream",
          "text": [
            "Lima data teratas:\n",
            "      tanggal  kasus_baru  meninggal  sembuh\n",
            "0 2020-03-02           3          0       0\n",
            "1 2020-03-03           1          1       0\n",
            "2 2020-03-04           1          0       0\n",
            "3 2020-03-05           1          0       0\n",
            "4 2020-03-06           1          0       0\n",
            "\n",
            "Lima data terakhir:\n",
            "        tanggal  kasus_baru  meninggal  sembuh\n",
            "523 2021-08-07        3001         79    4925\n",
            "524 2021-08-08        2244         58   18813\n",
            "525 2021-08-09        2416        120    8808\n",
            "526 2021-08-10        4152        491    7445\n",
            "527 2021-08-11        3165        120    8118\n"
          ],
          "name": "stdout"
        }
      ]
    },
    {
      "cell_type": "markdown",
      "metadata": {
        "id": "96N0awMKrlUu"
      },
      "source": [
        "# **Data Visualization**"
      ]
    },
    {
      "cell_type": "markdown",
      "metadata": {
        "id": "XFvInpwvr_o2"
      },
      "source": [
        "Now that we have tame data, we now express that data in another form that hopefully is easier to digest: graphs. We will start designing visualizations that have aesthetics using the `matplotlib` library."
      ]
    },
    {
      "cell_type": "code",
      "metadata": {
        "id": "VaDIbCL8sAiv"
      },
      "source": [
        "import matplotlib.pyplot as plt"
      ],
      "execution_count": 12,
      "outputs": []
    },
    {
      "cell_type": "markdown",
      "metadata": {
        "id": "H8jEDCcrsE13"
      },
      "source": [
        "The main components for making visualizations include data tables, data columns, and geometric shapes to present data. For example, to create a scatter-plot we need a point geometry (`.scatter()`), a line-chart requires a line geometry (`.plot()`), while a bar-chart requires a bar or column geometry (`.bar()`).\n",
        "\n",
        "We will create a bar-chart of the daily number of new COVID-19 cases in West Java using `cov_jabar_tidy` data with the `date` column as the x-axis."
      ]
    },
    {
      "cell_type": "code",
      "metadata": {
        "colab": {
          "base_uri": "https://localhost:8080/",
          "height": 337
        },
        "id": "ATKu7c4rsxK5",
        "outputId": "79b63a3e-9277-4414-9204-b8970572415b"
      },
      "source": [
        "plt.clf()\n",
        "fig, ax = plt.subplots(figsize=(10,5))\n",
        "ax.bar(data=cov_jabar_tidy, x='tanggal', height='kasus_baru')\n",
        "plt.show()"
      ],
      "execution_count": 13,
      "outputs": [
        {
          "output_type": "display_data",
          "data": {
            "text/plain": [
              "<Figure size 432x288 with 0 Axes>"
            ]
          },
          "metadata": {
            "tags": []
          }
        },
        {
          "output_type": "display_data",
          "data": {
            "image/png": "[encoded data removed]",
            "text/plain": [
              "<Figure size 720x360 with 1 Axes>"
            ]
          },
          "metadata": {
            "tags": [],
            "needs_background": "light"
          }
        }
      ]
    },
    {
      "cell_type": "markdown",
      "metadata": {
        "id": "BGo7syP7tPt9"
      },
      "source": [
        "#### **Graphic Information**"
      ]
    },
    {
      "cell_type": "code",
      "metadata": {
        "colab": {
          "base_uri": "https://localhost:8080/",
          "height": 384
        },
        "id": "Io9o8fiJtdpJ",
        "outputId": "e4d2b364-f0fd-47da-a39c-48f0f6792b07"
      },
      "source": [
        "import matplotlib.pyplot as plt\n",
        "import matplotlib.dates as mdates\n",
        "\n",
        "plt.clf()\n",
        "fig, ax = plt.subplots(figsize=(10,5))\n",
        "ax.bar(data=cov_jabar_tidy, x='tanggal', height='kasus_baru', color='salmon')\n",
        "fig.suptitle('Kasus Harian Positif COVID-19 di Jawa Barat', \n",
        "             y=1.00, fontsize=16, fontweight='bold', ha='center')\n",
        "ax.set_title('\\nTerjadi pelonjakan kasus di awal bulan Juli akibat klaster Secapa AD Bandung',\n",
        "             fontsize=10)\n",
        "ax.set_xlabel('')\n",
        "ax.set_ylabel('Jumlah Kasus')\n",
        "ax.text(1, -0.3, 'Sumber data: covid19.go.id', color='blue',\n",
        "        ha='right', transform=ax.transAxes)\n",
        "ax.set_xticklabels(ax.get_xticks(), rotation=90)\n",
        "\n",
        "ax.xaxis.set_major_locator(mdates.MonthLocator())\n",
        "ax.xaxis.set_major_formatter(mdates.DateFormatter('%b %Y'))\n",
        "\n",
        "plt.grid(axis='y')\n",
        "plt.tight_layout()\n",
        "plt.show()"
      ],
      "execution_count": 39,
      "outputs": [
        {
          "output_type": "display_data",
          "data": {
            "text/plain": [
              "<Figure size 432x288 with 0 Axes>"
            ]
          },
          "metadata": {
            "tags": []
          }
        },
        {
          "output_type": "display_data",
          "data": {
            "image/png": "[encoded data removed]",
            "text/plain": [
              "<Figure size 720x360 with 1 Axes>"
            ]
          },
          "metadata": {
            "tags": [],
            "needs_background": "light"
          }
        }
      ]
    },
    {
      "cell_type": "markdown",
      "metadata": {
        "id": "izoIBqfVuNjF"
      },
      "source": [
        "##### *1.   Graphics for Cured Cases*\n",
        "\n",
        "\n"
      ]
    },
    {
      "cell_type": "code",
      "metadata": {
        "colab": {
          "base_uri": "https://localhost:8080/",
          "height": 374
        },
        "id": "_nieiYOZu2he",
        "outputId": "c7807f0b-4f0f-488d-b007-92c9af5ac4ac"
      },
      "source": [
        "import matplotlib.pyplot as plt\n",
        "import matplotlib.dates as mdates\n",
        "\n",
        "plt.clf()\n",
        "fig, ax = plt.subplots(figsize=(10,5))\n",
        "ax.bar(data=cov_jabar_tidy, x='tanggal', height='sembuh', color='olivedrab')\n",
        "ax.set_title('Kasus Harian Sembuh Dari COVID-19 di Jawa Barat',\n",
        "             fontsize=22)\n",
        "ax.set_xlabel('')\n",
        "ax.set_ylabel('Jumlah Kasus')\n",
        "ax.text(1, -0.3, 'Sumber data: covid19.go.id', color='blue',\n",
        "        ha='right', transform=ax.transAxes)\n",
        "ax.set_xticklabels(ax.get_xticks(), rotation=90)\n",
        "\n",
        "ax.xaxis.set_major_locator(mdates.MonthLocator())\n",
        "ax.xaxis.set_major_formatter(mdates.DateFormatter('%b %Y'))\n",
        "\n",
        "plt.grid(axis='y')\n",
        "plt.ylim(ymax=10000)\n",
        "plt.tight_layout()\n",
        "plt.show()"
      ],
      "execution_count": 29,
      "outputs": [
        {
          "output_type": "display_data",
          "data": {
            "text/plain": [
              "<Figure size 432x288 with 0 Axes>"
            ]
          },
          "metadata": {
            "tags": []
          }
        },
        {
          "output_type": "display_data",
          "data": {
            "image/png": "[encoded data removed]",
            "text/plain": [
              "<Figure size 720x360 with 1 Axes>"
            ]
          },
          "metadata": {
            "tags": [],
            "needs_background": "light"
          }
        }
      ]
    },
    {
      "cell_type": "markdown",
      "metadata": {
        "id": "QlINDniovMu3"
      },
      "source": [
        "##### *2.   Graphics for Dead Cases*\n"
      ]
    },
    {
      "cell_type": "code",
      "metadata": {
        "colab": {
          "base_uri": "https://localhost:8080/",
          "height": 374
        },
        "id": "HWZIfodRvcVk",
        "outputId": "e4a9a01b-1251-490d-ad68-475fe502fcef"
      },
      "source": [
        "import matplotlib.pyplot as plt\n",
        "import matplotlib.dates as mdates\n",
        "\n",
        "plt.clf()\n",
        "fig, ax = plt.subplots(figsize=(10,5))\n",
        "ax.bar(data=cov_jabar_tidy, x='tanggal', height='meninggal', color='slategrey')\n",
        "ax.set_title('Kasus Harian Meninggal Dari COVID-19 di Jawa Barat',\n",
        "             fontsize=22)\n",
        "ax.set_xlabel('')\n",
        "ax.set_ylabel('Jumlah Kasus')\n",
        "ax.text(1, -0.3, 'Sumber data: covid19.go.id', color='blue',\n",
        "        ha='right', transform=ax.transAxes)\n",
        "ax.set_xticklabels(ax.get_xticks(), rotation=90)\n",
        "\n",
        "ax.xaxis.set_major_locator(mdates.MonthLocator())\n",
        "ax.xaxis.set_major_formatter(mdates.DateFormatter('%b %Y'))\n",
        "\n",
        "plt.grid(axis='y')\n",
        "plt.tight_layout()\n",
        "plt.show()"
      ],
      "execution_count": 31,
      "outputs": [
        {
          "output_type": "display_data",
          "data": {
            "text/plain": [
              "<Figure size 432x288 with 0 Axes>"
            ]
          },
          "metadata": {
            "tags": []
          }
        },
        {
          "output_type": "display_data",
          "data": {
            "image/png": "[encoded data removed]",
            "text/plain": [
              "<Figure size 720x360 with 1 Axes>"
            ]
          },
          "metadata": {
            "tags": [],
            "needs_background": "light"
          }
        }
      ]
    },
    {
      "cell_type": "markdown",
      "metadata": {
        "id": "JEo5RIH3vqjW"
      },
      "source": [
        "# **Analysis: \"Was This Week Any Better?\"**"
      ]
    },
    {
      "cell_type": "markdown",
      "metadata": {
        "id": "CMWAjaggxNTY"
      },
      "source": [
        "After observing the graph of the development of cases, we realize that there is a daily fluctuation in the number of cases. Based on this, we will then try to observe how the case progresses in a span of weeks.\n",
        "\n",
        "We can easily do this through predefined code, that is, we first set the `tanggal` column in `cov_jabar_tidy` as index. Then we apply the method on the time series in pandas, resampling per week and using the sum aggregation. As for what will be used to extract information for the week in one year `weekofyear` and `year` for the year.\n",
        "\n",
        "We count weekly case increments and store the result as `cov_jabar_pekanan`. We use the `info()` and `head()` methods to perform data inspection."
      ]
    },
    {
      "cell_type": "code",
      "metadata": {
        "colab": {
          "base_uri": "https://localhost:8080/"
        },
        "id": "P_n0I6yBxTWw",
        "outputId": "13614313-0a11-4e99-ca3f-9647bcac256d"
      },
      "source": [
        "import numpy as np\n",
        "import pandas as pd\n",
        "import requests\n",
        "resp_jabar = requests.get('https://data.covid19.go.id/public/api/prov_detail_JAWA_BARAT.json')\n",
        "cov_jabar_raw = resp_jabar.json()\n",
        "cov_jabar = pd.DataFrame(cov_jabar_raw['list_perkembangan'])\n",
        "\n",
        "cov_jabar_tidy = (cov_jabar.drop(columns=[item for item in cov_jabar.columns \n",
        "                                               if item.startswith('AKUMULASI') \n",
        "                                                  or item.startswith('DIRAWAT')])\n",
        "                           .rename(columns=str.lower)\n",
        "                           .rename(columns={'kasus': 'kasus_baru'})\n",
        "                  )\n",
        "cov_jabar_tidy['tanggal'] = pd.to_datetime(cov_jabar_tidy['tanggal']*1e6, unit='ns')\n",
        "\n",
        "cov_jabar_pekanan = (cov_jabar_tidy.set_index('tanggal')['kasus_baru']\n",
        "                                   .resample('W')\n",
        "                                   .sum()\n",
        "                                   .reset_index()\n",
        "                                   .rename(columns={'kasus_baru': 'jumlah'})\n",
        "                    )\n",
        "cov_jabar_pekanan['tahun'] = cov_jabar_pekanan['tanggal'].apply(lambda x: x.year)\n",
        "cov_jabar_pekanan['pekan_ke'] =cov_jabar_pekanan['tanggal'].apply(lambda x: x.weekofyear)\n",
        "cov_jabar_pekanan = cov_jabar_pekanan[['tahun', 'pekan_ke', 'jumlah']]\n",
        "\n",
        "print('Info cov_jabar_pekanan:')\n",
        "print(cov_jabar_pekanan.info())\n",
        "print('\\nLima data teratas cov_jabar_pekanan:\\n', cov_jabar_pekanan.head())\n",
        "print('\\nLima data terbawah cov_jabar_pekanan:\\n', cov_jabar_pekanan.tail())"
      ],
      "execution_count": 33,
      "outputs": [
        {
          "output_type": "stream",
          "text": [
            "Info cov_jabar_pekanan:\n",
            "<class 'pandas.core.frame.DataFrame'>\n",
            "RangeIndex: 76 entries, 0 to 75\n",
            "Data columns (total 3 columns):\n",
            " #   Column    Non-Null Count  Dtype\n",
            "---  ------    --------------  -----\n",
            " 0   tahun     76 non-null     int64\n",
            " 1   pekan_ke  76 non-null     int64\n",
            " 2   jumlah    76 non-null     int64\n",
            "dtypes: int64(3)\n",
            "memory usage: 1.9 KB\n",
            "None\n",
            "\n",
            "Lima data teratas cov_jabar_pekanan:\n",
            "    tahun  pekan_ke  jumlah\n",
            "0   2020        10       7\n",
            "1   2020        11       5\n",
            "2   2020        12      52\n",
            "3   2020        13     104\n",
            "4   2020        14     131\n",
            "\n",
            "Lima data terbawah cov_jabar_pekanan:\n",
            "     tahun  pekan_ke  jumlah\n",
            "71   2021        28   64568\n",
            "72   2021        29   52461\n",
            "73   2021        30   42669\n",
            "74   2021        31   25164\n",
            "75   2021        32    9733\n"
          ],
          "name": "stdout"
        }
      ]
    },
    {
      "cell_type": "markdown",
      "metadata": {
        "id": "IU9pUUBExmOB"
      },
      "source": [
        "In order to answer the question \"Is this week better than last week?\", we do a simple calculation with the following steps:\n",
        "\n",
        "- Create a new column named `jumlah_pekanlalu` containing the number of new cases in the previous week.\n",
        "- Replaced the value of `NaN` in the column `jumlah_pekanlalu` with a value of 0.\n",
        "- Comparing the column `jumlah` with the column `jumlah_pekanlalu`. The results of this comparison are stored in a new column with the name `lebih_baik`. Its contents are `True` if the number of new cases this week is lower than the number of cases last week, and `False` otherwise.\n",
        "\n",
        "We will use the `shift()` method to create the column `jumlah_pekanlalu`, and inspect our work using `head(10)` and `tail(10)` to see the characteristics of the addition of the first and last 10 data."
      ]
    },
    {
      "cell_type": "code",
      "metadata": {
        "colab": {
          "base_uri": "https://localhost:8080/"
        },
        "id": "uUe7qik9zhui",
        "outputId": "1a037d2a-2792-4e99-eed4-dcf93a163a8d"
      },
      "source": [
        "cov_jabar_pekanan['jumlah_pekanlalu'] = cov_jabar_pekanan['jumlah'].shift().replace(np.nan, 0).astype(np.int)\n",
        "cov_jabar_pekanan['lebih_baik'] = cov_jabar_pekanan['jumlah'] < cov_jabar_pekanan['jumlah_pekanlalu']\n",
        "\n",
        "print('Sepuluh data teratas:\\n', cov_jabar_pekanan.head(10))\n",
        "print('\\nSepuluh data terbawah:\\n', cov_jabar_pekanan.tail(10))"
      ],
      "execution_count": 35,
      "outputs": [
        {
          "output_type": "stream",
          "text": [
            "Sepuluh data teratas:\n",
            "    tahun  pekan_ke  jumlah  jumlah_pekanlalu  lebih_baik\n",
            "0   2020        10       7                 0       False\n",
            "1   2020        11       5                 7        True\n",
            "2   2020        12      52                 5       False\n",
            "3   2020        13     104                52       False\n",
            "4   2020        14     131               104       False\n",
            "5   2020        15     235               131       False\n",
            "6   2020        16     277               235       False\n",
            "7   2020        17     216               277        True\n",
            "8   2020        18     156               216        True\n",
            "9   2020        19     367               156       False\n",
            "\n",
            "Sepuluh data terbawah:\n",
            "     tahun  pekan_ke  jumlah  jumlah_pekanlalu  lebih_baik\n",
            "66   2021        23    9180              7129       False\n",
            "67   2021        24   15626              9180       False\n",
            "68   2021        25   23733             15626       False\n",
            "69   2021        26   34099             23733       False\n",
            "70   2021        27   49602             34099       False\n",
            "71   2021        28   64568             49602       False\n",
            "72   2021        29   52461             64568        True\n",
            "73   2021        30   42669             52461        True\n",
            "74   2021        31   25164             42669        True\n",
            "75   2021        32    9733             25164        True\n"
          ],
          "name": "stdout"
        }
      ]
    },
    {
      "cell_type": "markdown",
      "metadata": {
        "id": "wV0QU5au0JDc"
      },
      "source": [
        "#### **Create the Bar Chart**"
      ]
    },
    {
      "cell_type": "markdown",
      "metadata": {
        "id": "VyJGVI3t0tu5"
      },
      "source": [
        "By using the calculated data, we can now create a weekly bar-chat with new information added to answer the question: \"Was this week any better?\""
      ]
    },
    {
      "cell_type": "code",
      "metadata": {
        "colab": {
          "base_uri": "https://localhost:8080/",
          "height": 470
        },
        "id": "25sAyQPP0vG_",
        "outputId": "2f6ab2c0-574a-4a55-f9fa-2e70757a3a4b"
      },
      "source": [
        "import matplotlib.pyplot as plt\n",
        "\n",
        "plt.clf()\n",
        "jml_tahun_terjadi_covid19 = cov_jabar_pekanan['tahun'].nunique()\n",
        "tahun_terjadi_covid19 = cov_jabar_pekanan['tahun'].unique()\n",
        "fig, axes = plt.subplots(nrows=jml_tahun_terjadi_covid19,\n",
        "\t\t\t\t\t\t figsize=(10,3*jml_tahun_terjadi_covid19))\n",
        "\n",
        "fig.suptitle('Kasus Pekanan Positif COVID-19 di Jawa Barat',\n",
        "\t\t\t y=1.00, fontsize=16, fontweight='bold', ha='center')\n",
        "for i, ax in enumerate(axes):\n",
        "\tax.bar(data=cov_jabar_pekanan.loc[cov_jabar_pekanan['tahun']==tahun_terjadi_covid19[i]],\n",
        "\t\t   x='pekan_ke', height='jumlah',\n",
        "\t\t   color=['mediumseagreen' if x is True else 'salmon'\n",
        "\t\t\t\t  for x in cov_jabar_pekanan['lebih_baik']])\n",
        "\tif i == 0:\n",
        "\t\tax.set_title('\\nCatatan: Kolom hijau menunjukan penambahan kasus baru lebih sedikit dibandingkan satu pekan sebelumnya',\n",
        "\t\t\t\tfontsize=10)\n",
        "\telif i == jml_tahun_terjadi_covid19-1:\n",
        "\t\tax.text(1, -0.2, 'Sumber data: covid19.go.id', color='blue',\n",
        "\t\t\tha='right', transform=ax.transAxes)\n",
        "\t\t\t\t \n",
        "\tax.set_xlim([0, 52.5])\n",
        "\tax.set_ylim([0, max(cov_jabar_pekanan['jumlah'])])\n",
        "\tax.set_xlabel('Pekan ke-')\n",
        "\tax.set_ylabel('Jumlah kasus %d'%(tahun_terjadi_covid19[i],))\n",
        "\tax.grid(axis='y')\n",
        "\n",
        "plt.tight_layout()\n",
        "plt.show()"
      ],
      "execution_count": 38,
      "outputs": [
        {
          "output_type": "display_data",
          "data": {
            "text/plain": [
              "<Figure size 432x288 with 0 Axes>"
            ]
          },
          "metadata": {
            "tags": []
          }
        },
        {
          "output_type": "display_data",
          "data": {
            "image/png": "[encoded data removed]",
            "text/plain": [
              "<Figure size 720x432 with 2 Axes>"
            ]
          },
          "metadata": {
            "tags": [],
            "needs_background": "light"
          }
        }
      ]
    },
    {
      "cell_type": "markdown",
      "metadata": {
        "id": "j9kBC0Xf12Er"
      },
      "source": [
        "#### **Patterns and Dynamics**"
      ]
    },
    {
      "cell_type": "markdown",
      "metadata": {
        "id": "Jb-_8MFK2Ddk"
      },
      "source": [
        "From the information obtained, some have finally recovered, but not a few have died from COVID-19. Meanwhile, the addition of new cases continues to occur in the community. This may trigger another question: \"How many active cases are there so far?\" (Active in the sense of being in treatment or isolation)\n",
        "\n",
        "This information has actually been provided in the [covid19.go.id](https://covid19.go.id) API response that we requested. But we can try to calculate it ourselves.\n",
        "\n",
        "The number of active cases can be calculated by subtracting the number of accumulated positives by the number of accumulated recoveries and the number of accumulated deaths. We can use the `cumsum()` method to calculate the accumulated value of a numeric vector."
      ]
    },
    {
      "cell_type": "code",
      "metadata": {
        "colab": {
          "base_uri": "https://localhost:8080/"
        },
        "id": "-hpcaOmq28A7",
        "outputId": "9ba559a4-8f2f-4385-9e12-6ff65aac7571"
      },
      "source": [
        "import numpy as np\n",
        "import pandas as pd\n",
        "import requests\n",
        "resp_jabar = requests.get('https://data.covid19.go.id/public/api/prov_detail_JAWA_BARAT.json')\n",
        "cov_jabar_raw = resp_jabar.json()\n",
        "cov_jabar = pd.DataFrame(cov_jabar_raw['list_perkembangan'])\n",
        "\n",
        "cov_jabar_tidy = (cov_jabar.drop(columns=[item for item in cov_jabar.columns \n",
        "                                               if item.startswith('AKUMULASI') \n",
        "                                                  or item.startswith('DIRAWAT')])\n",
        "                           .rename(columns=str.lower)\n",
        "                           .rename(columns={'kasus': 'kasus_baru'})\n",
        "                  )\n",
        "cov_jabar_tidy['tanggal'] = pd.to_datetime(cov_jabar_tidy['tanggal']*1e6, unit='ns')\n",
        "\n",
        "cov_jabar_akumulasi = cov_jabar_tidy[['tanggal']].copy()\n",
        "cov_jabar_akumulasi['akumulasi_aktif'] = (cov_jabar_tidy['kasus_baru'] - cov_jabar_tidy['sembuh'] - cov_jabar_tidy['meninggal']).cumsum()\n",
        "cov_jabar_akumulasi['akumulasi_sembuh'] = cov_jabar_tidy['sembuh'].cumsum()\n",
        "cov_jabar_akumulasi['akumulasi_meninggal'] = cov_jabar_tidy['meninggal'].cumsum()\n",
        "print('Sepuluh data terbaru : \\n', cov_jabar_akumulasi.tail(10))"
      ],
      "execution_count": 41,
      "outputs": [
        {
          "output_type": "stream",
          "text": [
            "Sepuluh data terbaru : \n",
            "        tanggal  akumulasi_aktif  akumulasi_sembuh  akumulasi_meninggal\n",
            "518 2021-08-02           118973            485387                 9679\n",
            "519 2021-08-03           118045            490475                 9818\n",
            "520 2021-08-04           116513            495857                 9960\n",
            "521 2021-08-05           111417            505494                10133\n",
            "522 2021-08-06           107857            513521                10240\n",
            "523 2021-08-07           105854            518446                10319\n",
            "524 2021-08-08            89227            537259                10377\n",
            "525 2021-08-09            82715            546067                10497\n",
            "526 2021-08-10            78931            553512                10988\n",
            "527 2021-08-11            73858            561630                11108\n"
          ],
          "name": "stdout"
        }
      ]
    },
    {
      "cell_type": "markdown",
      "metadata": {
        "id": "6c2dQneV3HLs"
      },
      "source": [
        "#### **Create the Line Chart**"
      ]
    },
    {
      "cell_type": "markdown",
      "metadata": {
        "id": "wqBGIM4e3RgR"
      },
      "source": [
        "Now we try to create a line-chart of the active case pattern using the `plot` method on `ax`."
      ]
    },
    {
      "cell_type": "code",
      "metadata": {
        "colab": {
          "base_uri": "https://localhost:8080/",
          "height": 374
        },
        "id": "4Dl-t9F_3bef",
        "outputId": "115e8309-31ed-4a31-e5d1-c76995ec3143"
      },
      "source": [
        "import matplotlib.pyplot as plt\n",
        "import matplotlib.dates as mdates\n",
        "\n",
        "plt.clf()\n",
        "fig, ax = plt.subplots(figsize=(10,5))\n",
        "ax.plot('tanggal', 'akumulasi_aktif', data=cov_jabar_akumulasi, lw=2)\n",
        "\n",
        "ax.set_title('Akumulasi Aktif COVID-19 di Jawa Barat',\n",
        "             fontsize=22)\n",
        "ax.set_xlabel('')\n",
        "ax.set_ylabel('Akumulasi Aktif')\n",
        "ax.text(1, -0.3, 'Sumber data: covid19.go.id', color='blue',\n",
        "        ha='right', transform=ax.transAxes)\n",
        "ax.set_xticklabels(ax.get_xticks(), rotation=90)\n",
        "\n",
        "ax.xaxis.set_major_locator(mdates.MonthLocator())\n",
        "ax.xaxis.set_major_formatter(mdates.DateFormatter('%b %Y'))\n",
        "\n",
        "plt.grid()\n",
        "plt.tight_layout()\n",
        "plt.show()"
      ],
      "execution_count": 42,
      "outputs": [
        {
          "output_type": "display_data",
          "data": {
            "text/plain": [
              "<Figure size 432x288 with 0 Axes>"
            ]
          },
          "metadata": {
            "tags": []
          }
        },
        {
          "output_type": "display_data",
          "data": {
            "image/png": "[encoded data removed]",
            "text/plain": [
              "<Figure size 720x360 with 1 Axes>"
            ]
          },
          "metadata": {
            "tags": [],
            "needs_background": "light"
          }
        }
      ]
    },
    {
      "cell_type": "markdown",
      "metadata": {
        "id": "_L1R8KKs3nWV"
      },
      "source": [
        "# **Final Stage**"
      ]
    },
    {
      "cell_type": "markdown",
      "metadata": {
        "id": "Bfa7aT-g4WEu"
      },
      "source": [
        "To conclude the analysis in this project, we make a comparison graph between the accumulation of active cases, cured cases, and dead cases.\n",
        "\n",
        "There are two choices of ways that can be taken to create the graph:\n",
        "\n",
        "- using the data frame `cov_jabar_akumulasi`, with column type datetime set to index, so we have a time series dataframe. Then we can directly line plot and choose the appropriate line color to distinguish; or\n",
        "- uses `ax.plot()` and fills the columns which are x and y respectively with data=`cov_jabar_akumulasi`, and then sets different colors for the three line plots."
      ]
    },
    {
      "cell_type": "code",
      "metadata": {
        "colab": {
          "base_uri": "https://localhost:8080/",
          "height": 374
        },
        "id": "V7jtRfzv5A2B",
        "outputId": "7e4ec7e9-0715-4815-8e52-aac8e202c587"
      },
      "source": [
        "import numpy as np\n",
        "import pandas as pd\n",
        "import requests\n",
        "resp_jabar = requests.get('https://data.covid19.go.id/public/api/prov_detail_JAWA_BARAT.json')\n",
        "cov_jabar_raw = resp_jabar.json()\n",
        "cov_jabar = pd.DataFrame(cov_jabar_raw['list_perkembangan'])\n",
        "\n",
        "cov_jabar_tidy = (cov_jabar.drop(columns=[item for item in cov_jabar.columns \n",
        "                                               if item.startswith('AKUMULASI') \n",
        "                                                  or item.startswith('DIRAWAT')])\n",
        "                           .rename(columns=str.lower)\n",
        "                           .rename(columns={'kasus': 'kasus_baru'})\n",
        "                  )\n",
        "cov_jabar_tidy['tanggal'] = pd.to_datetime(cov_jabar_tidy['tanggal']*1e6, unit='ns')\n",
        "\n",
        "cov_jabar_akumulasi = cov_jabar_tidy[['tanggal']].copy()\n",
        "cov_jabar_akumulasi['akumulasi_aktif'] = (cov_jabar_tidy['kasus_baru'] - cov_jabar_tidy['sembuh'] - cov_jabar_tidy['meninggal']).cumsum()\n",
        "cov_jabar_akumulasi['akumulasi_sembuh'] = cov_jabar_tidy['sembuh'].cumsum()\n",
        "cov_jabar_akumulasi['akumulasi_meninggal'] = cov_jabar_tidy['meninggal'].cumsum()\n",
        "\n",
        "import matplotlib.pyplot as plt\n",
        "import matplotlib.dates as mdates\n",
        "plt.clf()\n",
        "fig, ax = plt.subplots(figsize=(10,5))\n",
        "cov_jabar_akumulasi_ts = cov_jabar_akumulasi.set_index('tanggal')\n",
        "cov_jabar_akumulasi_ts.plot(kind='line', ax=ax, lw=3,\n",
        "\t\t\t\t\t\t color=['salmon', 'slategrey', 'olivedrab'])\n",
        "\n",
        "ax.set_title('Dinamika Kasus COVID-19 di Jawa Barat',\n",
        "\t\t\t fontsize=22)\n",
        "ax.set_xlabel('')\n",
        "ax.set_ylabel('Akumulasi Aktif')\n",
        "ax.text(1, -0.3, 'Sumber data: covid19.go.id', color='blue',\n",
        "\t\tha='right', transform=ax.transAxes)\n",
        "\n",
        "plt.grid()\n",
        "plt.tight_layout()\n",
        "plt.show()"
      ],
      "execution_count": 43,
      "outputs": [
        {
          "output_type": "display_data",
          "data": {
            "text/plain": [
              "<Figure size 432x288 with 0 Axes>"
            ]
          },
          "metadata": {
            "tags": []
          }
        },
        {
          "output_type": "display_data",
          "data": {
            "image/png": "[encoded data removed]",
            "text/plain": [
              "<Figure size 720x360 with 1 Axes>"
            ]
          },
          "metadata": {
            "tags": [],
            "needs_background": "light"
          }
        }
      ]
    },
    {
      "cell_type": "markdown",
      "metadata": {
        "id": "FuGoLz8oKNmw"
      },
      "source": [
        "Finally, through this project, we have imported data through the API, transformed data, and created data visualizations to provide information on the results of data analysis about COVID-19 in Indonesia and West Java."
      ]
    }
  ]
}